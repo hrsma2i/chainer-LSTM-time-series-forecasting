{
 "cells": [
  {
   "cell_type": "code",
   "execution_count": null,
   "metadata": {
    "collapsed": false
   },
   "outputs": [],
   "source": [
    "import os\n",
    "\n",
    "import numpy as np\n",
    "import pandas as pd\n",
    "\n",
    "from data_process import Processer, name2prc\n",
    "from train import train, path_hp2hp\n",
    "from model_api import select_hp"
   ]
  },
  {
   "cell_type": "code",
   "execution_count": null,
   "metadata": {
    "collapsed": false,
    "scrolled": false
   },
   "outputs": [],
   "source": [
    "def train_full(data_root='data',\n",
    "               root='result/test',\n",
    "               name_seq='airline',\n",
    "               name_prc='default',\n",
    "               n_epoch=150):\n",
    "    path_seq = os.path.join(root, name_seq)\n",
    "    path_prc = os.path.join(path_seq, name_prc)\n",
    "    name_hp = select_hp(root=path_prc, verbose=True)\n",
    "    path_hp = os.path.join(path_prc, name_hp)\n",
    "    \n",
    "    path_csv = os.path.join(data_root, '{}_train.csv'.format(name_seq))\n",
    "    series = pd.read_csv(path_csv, header=None).values\n",
    "    #val_size = 0.3\n",
    "    size_pad = round(series.shape[0] * (3./7))\n",
    "    z = np.zeros((size_pad, series.shape[1]))\n",
    "    series_pad = np.concatenate((series, z), axis=0)\n",
    "    print('series_pad', series_pad.shape)\n",
    "    print()\n",
    "    \n",
    "        \n",
    "    prcsr = Processer(**name2prc(name_prc))\n",
    "\n",
    "    datasets = prcsr.get_datasets(series_pad)\n",
    "    X_train, _, _, _ = prcsr.transform_train(series_pad)\n",
    "    print('REMARK: X_train is fewer because diff and supervise')\n",
    "    print('sereis', series.shape)\n",
    "    print('X_train', X_train.shape)\n",
    "    print()\n",
    "    \n",
    "    hp = path_hp2hp(path_hp)\n",
    "    \n",
    "    out = os.path.join(path_prc, 'full_'+name_hp)\n",
    "    print(out)\n",
    "    \n",
    "    # training\n",
    "    train(datasets, hp, out=out, n_epoch=n_epoch)"
   ]
  },
  {
   "cell_type": "code",
   "execution_count": null,
   "metadata": {
    "collapsed": false
   },
   "outputs": [],
   "source": [
    "# test train_full\n",
    "if __name__==\"__main__\":\n",
    "    data_root = 'data'\n",
    "    root = 'result/test'\n",
    "    name_prc = 'default'\n",
    "    \n",
    "    name_seq = 'toy'\n",
    "    \n",
    "    train_full(data_root=data_root,\n",
    "               root=root,\n",
    "               name_seq=name_seq,\n",
    "               name_prc=name_prc)"
   ]
  },
  {
   "cell_type": "code",
   "execution_count": null,
   "metadata": {
    "collapsed": false,
    "scrolled": true
   },
   "outputs": [],
   "source": [
    "# loop train_full over seqs\n",
    "if __name__==\"__main__\":\n",
    "    data_root = 'data'\n",
    "    root = 'result/test'\n",
    "    name_prc = 'default'\n",
    "    name_sequences = 'sequences'\n",
    "    \n",
    "    path_sequences = os.path.join(data_root, name_sequences)\n",
    "    seqs = [ seq.rstrip()\n",
    "            for seq in open(path_sequences, 'r').readlines()] \n",
    "    \n",
    "    for name_seq in seqs:\n",
    "        train_full(data_root=data_root,\n",
    "                   root=root,\n",
    "                   name_seq=name_seq,\n",
    "                   name_prc=name_prc)"
   ]
  },
  {
   "cell_type": "code",
   "execution_count": null,
   "metadata": {
    "collapsed": true
   },
   "outputs": [],
   "source": []
  }
 ],
 "metadata": {
  "kernelspec": {
   "display_name": "Python 3",
   "language": "python",
   "name": "python3"
  },
  "language_info": {
   "codemirror_mode": {
    "name": "ipython",
    "version": 3
   },
   "file_extension": ".py",
   "mimetype": "text/x-python",
   "name": "python",
   "nbconvert_exporter": "python",
   "pygments_lexer": "ipython3",
   "version": "3.6.0"
  }
 },
 "nbformat": 4,
 "nbformat_minor": 2
}
