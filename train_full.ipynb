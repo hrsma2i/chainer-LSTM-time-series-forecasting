{
 "cells": [
  {
   "cell_type": "code",
   "execution_count": null,
   "metadata": {
    "collapsed": true
   },
   "outputs": [],
   "source": [
    "from data_process import Processer, name2prc\n",
    "from train import train, name2\n",
    "from model_api import select_hp"
   ]
  },
  {
   "cell_type": "code",
   "execution_count": null,
   "metadata": {
    "collapsed": true
   },
   "outputs": [],
   "source": [
    "# train a model with train+val for comparison\n",
    "if __name__==\"__main__\":\n",
    "    data_root = 'data'\n",
    "    root = 'result/test_full'\n",
    "    name_seq = 'airline'\n",
    "    name_prc = 'default'\n",
    "    \n",
    "    path_seq = os.path.join(root, name_seq)\n",
    "    path_prc = os.path.join(path_seq, name_prc)\n",
    "    name_hp = select_hp(root=path_prc, verbose=True)\n",
    "    \n",
    "    path_csv = os.path.join(data_root, '{}_train.csv'.format(name_seq))\n",
    "    series = pd.read_csv(path_csv, header=None).values\n",
    "        \n",
    "    prcsr = Processer(**name2prc(name_prc))\n",
    "\n",
    "    datasets = prcsr.get_datasets(series)\n",
    "    \n",
    "    # training\n",
    "    #train(datasets, hp, out=root, n_epoch=300)"
   ]
  }
 ],
 "metadata": {
  "kernelspec": {
   "display_name": "Python 3",
   "language": "python",
   "name": "python3"
  },
  "language_info": {
   "codemirror_mode": {
    "name": "ipython",
    "version": 3
   },
   "file_extension": ".py",
   "mimetype": "text/x-python",
   "name": "python",
   "nbconvert_exporter": "python",
   "pygments_lexer": "ipython3",
   "version": "3.6.0"
  }
 },
 "nbformat": 4,
 "nbformat_minor": 2
}
