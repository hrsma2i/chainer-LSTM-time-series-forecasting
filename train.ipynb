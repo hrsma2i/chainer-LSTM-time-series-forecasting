{
 "cells": [
  {
   "cell_type": "code",
   "execution_count": null,
   "metadata": {
    "collapsed": true
   },
   "outputs": [],
   "source": [
    "import chainer.links as L\n",
    "import chainer.functions as F\n",
    "from chainer.iterators import SerialIterator"
   ]
  },
  {
   "cell_type": "code",
   "execution_count": null,
   "metadata": {
    "collapsed": true
   },
   "outputs": [],
   "source": [
    "class LossSumMSEOverTime(L.Classifier):\n",
    "    def __init__(self):\n",
    "        super(LossSumMSEOverTime, self).__init__(predictor,\n",
    "                                                lossfun=F.mean_squared_error)\n",
    "    \n",
    "    def __call__(self, X_STF, y_STF):\n",
    "        \"\"\"\n",
    "        # Param\n",
    "        - X_STF (ndarray: (S, T, F))\n",
    "        - y_STF (ndarray: (S, T, F))\n",
    "        S: samples\n",
    "        T: time_steps\n",
    "        F: features\n",
    "        \n",
    "        # Return\n",
    "        - loss (Variable)\n",
    "        \"\"\"\n",
    "        X_TSF = X_STF.transpose(1,0,2)\n",
    "        y_TSF = y_STF.transpose(1,0,2)\n",
    "        \n",
    "        "
   ]
  }
 ],
 "metadata": {
  "kernelspec": {
   "display_name": "Python 3",
   "language": "python",
   "name": "python3"
  },
  "language_info": {
   "codemirror_mode": {
    "name": "ipython",
    "version": 3
   },
   "file_extension": ".py",
   "mimetype": "text/x-python",
   "name": "python",
   "nbconvert_exporter": "python",
   "pygments_lexer": "ipython3",
   "version": "3.6.0"
  }
 },
 "nbformat": 4,
 "nbformat_minor": 2
}
