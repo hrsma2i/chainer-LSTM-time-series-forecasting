{
 "cells": [
  {
   "cell_type": "code",
   "execution_count": null,
   "metadata": {
    "collapsed": false
   },
   "outputs": [],
   "source": [
    "import numpy as np\n",
    "import pandas as pd\n",
    "import chainer.links as L\n",
    "import chainer.functions as F\n",
    "import chainer\n",
    "from chainer import Variable, training, optimizers, reporter\n",
    "from chainer.training import extensions\n",
    "from chainer.iterators import SerialIterator\n",
    "\n",
    "from model import RNN\n",
    "from data_process import Processer"
   ]
  },
  {
   "cell_type": "code",
   "execution_count": null,
   "metadata": {
    "collapsed": false
   },
   "outputs": [],
   "source": [
    "class LossSumMSEOverTime(L.Classifier):\n",
    "    def __init__(self, predictor):\n",
    "        super(LossSumMSEOverTime, self).__init__(predictor, lossfun=F.mean_squared_error)\n",
    "    \n",
    "    def __call__(self, X_STF, y_STF):\n",
    "        \"\"\"\n",
    "        # Param\n",
    "        - X_STF (Variable: (S, T, F))\n",
    "        - y_STF (Variable: (S, T, F))\n",
    "        S: samples\n",
    "        T: time_steps\n",
    "        F: features\n",
    "        \n",
    "        # Return\n",
    "        - loss (Variable: (1, ))\n",
    "        \"\"\"\n",
    "        X_TSF = X_STF.transpose(1,0,2)\n",
    "        y_TSF = y_STF.transpose(1,0,2)\n",
    "        seq_len  = X_TSF.shape[0]\n",
    "        \n",
    "        loss = 0\n",
    "        \n",
    "        for t in range(seq_len):\n",
    "            pred = self.predictor(X_TSF[t])\n",
    "            obs  = y_TSF[t]\n",
    "            loss += self.lossfun(pred, obs)\n",
    "        \n",
    "        reporter.report({'loss': loss}, self)\n",
    "        \n",
    "        return loss"
   ]
  },
  {
   "cell_type": "code",
   "execution_count": null,
   "metadata": {
    "collapsed": false
   },
   "outputs": [],
   "source": [
    "class UpdaterRNN(training.StandardUpdater):\n",
    "    def __init__(self, itr_train, optimizer, device=-1):\n",
    "        super(UpdaterRNN, self).__init__(itr_train, optimizer, device=device)\n",
    "        \n",
    "    # overrided\n",
    "    def update_core(self):\n",
    "        itr_train = self.get_iterator('main')\n",
    "        optimizer = self.get_optimizer('main')\n",
    "        \n",
    "        batch = itr_train.__next__()\n",
    "        X_STF, y_STF = chainer.dataset.concat_examples(batch, self.device)\n",
    "        \n",
    "        optimizer.target.zerograds()\n",
    "        optimizer.target.predictor.reset_state()\n",
    "        loss = optimizer.target(Variable(X_STF), Variable(y_STF))\n",
    "        \n",
    "        loss.backward()\n",
    "        optimizer.update()"
   ]
  },
  {
   "cell_type": "code",
   "execution_count": null,
   "metadata": {
    "collapsed": false,
    "scrolled": false
   },
   "outputs": [],
   "source": [
    "# def train():\n",
    "    \n",
    "def train(units, opt, n_epoch, out):\n",
    "    dict_opt = {\n",
    "        'SGD':optimizers.SGD(),\n",
    "        'Adam':optimizers.Adam(),\n",
    "        'RMSprop':optimizers.RMSprop(),\n",
    "        'AdaDelta':optimizers.AdaDelta(),\n",
    "        'NesterovAG':optimizers.NesterovAG(),\n",
    "        'MomentumSGD':optimizers.MomentumSGD(),\n",
    "    }\n",
    "    \n",
    "    optimizer = dict_opt[opt]\n",
    "    \n",
    "    model = LossSumMSEOverTime(RNN(units))\n",
    "    \n",
    "    optimizer.setup(model)\n",
    "    \n",
    "    series = pd.read_csv('data/airline_train.csv', header=None).values.flatten()\n",
    "    if series.ndim == 1:\n",
    "        print('features = 1')\n",
    "        series = series.reshape(-1, 1)\n",
    "    prcsr = Processer()\n",
    "    ds_train, ds_val = prcsr.get_datasets(series)\n",
    "    \n",
    "    itr_train = SerialIterator(ds_train, batch_size=1, shuffle=False)\n",
    "    itr_val   = SerialIterator(ds_val  , batch_size=1, shuffle=False, repeat=False)\n",
    "    \n",
    "    updater = UpdaterRNN(itr_train, optimizer)\n",
    "    \n",
    "    eval_model = model.copy()\n",
    "    eval_rnn = eval_model.predictor\n",
    "    trainer = training.Trainer(updater, (n_epoch, 'epoch'), out=out)\n",
    "    trainer.extend(extensions.Evaluator(\n",
    "                itr_val, eval_model, device=-1,\n",
    "                eval_hook=lambda _: eval_rnn.reset_state()))\n",
    "    \n",
    "    trainer.extend(extensions.LogReport())\n",
    "    trainer.extend(extensions.snapshot_object(model.predictor, \n",
    "                                               filename='model_epoch-{.updater.epoch}'))\n",
    "    trainer.extend(extensions.PlotReport(['main/loss', 'validation/main/loss'],\n",
    "                                        x_key='epoch', file_name='loss.png'))\n",
    "    trainer.extend(extensions.PrintReport(\n",
    "                    ['epoch','main/loss','validation/main/loss']\n",
    "                ))\n",
    "    trainer.extend(extensions.ProgressBar())\n",
    "    \n",
    "    trainer.run()"
   ]
  },
  {
   "cell_type": "code",
   "execution_count": null,
   "metadata": {
    "collapsed": true
   },
   "outputs": [],
   "source": [
    "if __name__==\"__main__\":\n",
    "    out = 'result'\n",
    "    n_epoch = 100\n",
    "    units = (2,3)\n",
    "    opt = 'Adam'"
   ]
  },
  {
   "cell_type": "code",
   "execution_count": null,
   "metadata": {
    "collapsed": true
   },
   "outputs": [],
   "source": []
  }
 ],
 "metadata": {
  "kernelspec": {
   "display_name": "Python 3",
   "language": "python",
   "name": "python3"
  },
  "language_info": {
   "codemirror_mode": {
    "name": "ipython",
    "version": 3
   },
   "file_extension": ".py",
   "mimetype": "text/x-python",
   "name": "python",
   "nbconvert_exporter": "python",
   "pygments_lexer": "ipython3",
   "version": "3.6.0"
  }
 },
 "nbformat": 4,
 "nbformat_minor": 2
}
