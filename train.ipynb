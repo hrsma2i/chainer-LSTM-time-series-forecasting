{
 "cells": [
  {
   "cell_type": "code",
   "execution_count": null,
   "metadata": {
    "collapsed": false
   },
   "outputs": [],
   "source": [
    "import numpy as np\n",
    "import chainer.links as L\n",
    "import chainer.functions as F\n",
    "from chainer import Variable, training\n",
    "from chainer.iterators import SerialIterator"
   ]
  },
  {
   "cell_type": "code",
   "execution_count": null,
   "metadata": {
    "collapsed": false
   },
   "outputs": [],
   "source": [
    "class LossSumMSEOverTime(L.Classifier):\n",
    "    def __init__(self, predictor):\n",
    "        super(LossSumMSEOverTime, self).__init__(predictor, lossfun=F.mean_squared_error)\n",
    "    \n",
    "    def __call__(self, X_STF, y_STF):\n",
    "        \"\"\"\n",
    "        # Param\n",
    "        - X_STF (ndarray: (S, T, F))\n",
    "        - y_STF (ndarray: (S, T, F))\n",
    "        S: samples\n",
    "        T: time_steps\n",
    "        F: features\n",
    "        \n",
    "        # Return\n",
    "        - loss (Variable)\n",
    "        \"\"\"\n",
    "        X_TSF = X_STF.transpose(1,0,2)\n",
    "        y_TSF = y_STF.transpose(1,0,2)\n",
    "        seq_len  = X_TSF.shape[0]\n",
    "        \n",
    "        loss = 0\n",
    "        \n",
    "        for t in range(seq_len):\n",
    "            pred = self.predictor(Variable(X_TSF[t]))\n",
    "            obs  = Variable(y_TSF[t])\n",
    "            loss += self.lossfun(pred, obs)\n",
    "        \n",
    "        return loss"
   ]
  },
  {
   "cell_type": "code",
   "execution_count": null,
   "metadata": {
    "collapsed": false
   },
   "outputs": [],
   "source": [
    "class UpadaterRNN(training.StandardUpdater):\n",
    "    def __init__(self, train_iter, optimizer, deivce):\n",
    "        super(UpdaterRNN, self).__init__(train_iter, optimizer, device=device)\n",
    "        \n",
    "    # override\n",
    "    def updater_core(self):\n",
    "        train_iter = self.get_iterator('main')\n",
    "        optimizer = self.get_optimizer('main')\n",
    "        \n",
    "        X_STF, y_STF = train_iter.__next__()\n",
    "        \n",
    "        optimizer.target.predictor.reset_state()\n",
    "        loss = optimizer.target(X_STF, y_STF)\n",
    "        \n",
    "        optimizer.target.zerograds()\n",
    "        loss.backward()\n",
    "        optimizer.update()"
   ]
  },
  {
   "cell_type": "code",
   "execution_count": null,
   "metadata": {
    "collapsed": true
   },
   "outputs": [],
   "source": []
  }
 ],
 "metadata": {
  "kernelspec": {
   "display_name": "Python 3",
   "language": "python",
   "name": "python3"
  },
  "language_info": {
   "codemirror_mode": {
    "name": "ipython",
    "version": 3
   },
   "file_extension": ".py",
   "mimetype": "text/x-python",
   "name": "python",
   "nbconvert_exporter": "python",
   "pygments_lexer": "ipython3",
   "version": "3.6.0"
  }
 },
 "nbformat": 4,
 "nbformat_minor": 2
}
