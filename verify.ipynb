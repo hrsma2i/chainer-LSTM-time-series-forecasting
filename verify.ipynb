{
 "cells": [
  {
   "cell_type": "code",
   "execution_count": null,
   "metadata": {
    "collapsed": true
   },
   "outputs": [],
   "source": [
    "import os\n",
    "\n",
    "import pandas as pd\n",
    "from sklearn.preprocessing import MinMaxScaler, StandardScaler\n",
    "\n",
    "from data_process import Processer\n",
    "from train import tune"
   ]
  },
  {
   "cell_type": "code",
   "execution_count": null,
   "metadata": {
    "collapsed": false
   },
   "outputs": [],
   "source": [
    "def tune_prc(root, series, n_sample=100, n_epoch=300):\n",
    "    \"\"\"\n",
    "    # Param\n",
    "    - root   (str): the path where results will be saved\n",
    "    - series (ndarray: (T, F)):\n",
    "    \"\"\"\n",
    "    def routin(name_prc, prscr):\n",
    "        \"\"\"\n",
    "        global\n",
    "        - root\n",
    "        - series\n",
    "        - n_sample\n",
    "        - n_epoch\n",
    "        \"\"\"\n",
    "        print(name_prc)\n",
    "        path_prc = os.path.join(root, name_prc)\n",
    "        if not os.path.exists(path_prc):\n",
    "            os.mkdir(path_prc)\n",
    "        datasets = prcsr.get_datasets(series)\n",
    "        tune(root=path_prc, datasets=datasets,\n",
    "            n_sample=n_sample, n_epoch=n_epoch)\n",
    "        \n",
    "    name_prc = 'not_log'\n",
    "    prcsr = Processer(log=False)\n",
    "    routin(name_prc, prcsr)\n",
    "        \n",
    "    name_prc = 'not_diff'\n",
    "    prcsr = Processer(diff=False)\n",
    "    routin(name_prc, prcsr)\n",
    "    \n",
    "    sclrs ={\n",
    "        'minmax+':MinMaxScaler((0,1)),\n",
    "        'standard':StandardScaler(),\n",
    "        'not_scale':None,\n",
    "    }\n",
    "    for name_prc, sclr in sclrs.items():\n",
    "        prcsr = Processer(sclr=sclr, ysclr=sclr)\n",
    "        routin(name_prc, prcsr)\n",
    "        \n",
    "    name_prc = 'not_label_scale'\n",
    "    prcsr = Processer(ysclr=None)\n",
    "    routin(name_prc, prcsr)"
   ]
  },
  {
   "cell_type": "code",
   "execution_count": null,
   "metadata": {
    "collapsed": false,
    "scrolled": false
   },
   "outputs": [],
   "source": [
    "def tune_seq(data_root, path_sequences, root, \n",
    "            n_sample=100, n_epoch=300):\n",
    "    \"\"\"\n",
    "    # Param\n",
    "    - data_root (str): where seq csv-data are\n",
    "    - path_sequences (str): where sequences-list are\n",
    "    - root (srt): root dir where results will be dumped\n",
    "    \"\"\"\n",
    "    seqs = [ seq.rstrip()\n",
    "            for seq in open(path_sequences, 'r').readlines()]\n",
    "    \n",
    "    for name_seq in seqs:\n",
    "        print(name_seq)\n",
    "        path_csv = os.path.join(data_root, \n",
    "                                '{}_train.csv'.format(name_seq))\n",
    "\n",
    "        series = pd.read_csv(path_csv, header=None).values\n",
    "\n",
    "        path_seq = os.path.join(root, name_seq)\n",
    "        if not os.path.exists(path_seq):\n",
    "            os.mkdir(path_seq)\n",
    "\n",
    "        tune_prc(root=path_seq, series=series, \n",
    "                 n_sample=n_sample, n_epoch=n_epoch)"
   ]
  },
  {
   "cell_type": "code",
   "execution_count": null,
   "metadata": {
    "collapsed": false
   },
   "outputs": [],
   "source": [
    "if __name__==\"__main__\":\n",
    "    # for test\n",
    "    #n_sample = 2\n",
    "    #n_epoch  = 2\n",
    "    n_sample = 100\n",
    "    n_epoch  = 300\n",
    "    data_root = 'data'\n",
    "    path_sequences = os.path.join(data_root, 'sequences_verify')\n",
    "    root = 'result'\n",
    "    if not os.path.exists(root):\n",
    "        os.mkdir(root)\n",
    "    tune_seq(data_root=data_root,\n",
    "            path_sequences=path_sequences, root=root,\n",
    "            n_sample=n_sample, n_epoch=n_epoch)"
   ]
  },
  {
   "cell_type": "code",
   "execution_count": null,
   "metadata": {
    "collapsed": true
   },
   "outputs": [],
   "source": []
  }
 ],
 "metadata": {
  "kernelspec": {
   "display_name": "Python 3",
   "language": "python",
   "name": "python3"
  },
  "language_info": {
   "codemirror_mode": {
    "name": "ipython",
    "version": 3
   },
   "file_extension": ".py",
   "mimetype": "text/x-python",
   "name": "python",
   "nbconvert_exporter": "python",
   "pygments_lexer": "ipython3",
   "version": "3.6.0"
  }
 },
 "nbformat": 4,
 "nbformat_minor": 2
}
