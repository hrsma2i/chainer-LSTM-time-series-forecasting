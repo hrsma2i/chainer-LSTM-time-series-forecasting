{
 "cells": [
  {
   "cell_type": "markdown",
   "metadata": {},
   "source": [
    "# LSTMによる時系列解析をchainerで実装してみた\n",
    "\n",
    "[**Brains Consulting, Inc.**](https://www.brains-consulting.co.jp/) でインターンをさせていただいている情報系のM1です。\n",
    "2017/7から LSTM を用いた時系列予測を chainer で実装してきました。\n",
    "今回扱った時系列データは、**需要データ** になります。\n",
    "\n",
    "chainer **1.24.0** と結構古い version を使っているので注意です。\n",
    "\n",
    "コードは、[hrsma2i/chainer-LSTM-time-series-forecasting](https://github.com/hrsma2i/chainer-LSTM-time-series-forecasting) に上がっています。\n",
    "コードレビューしていただけたら幸いです！"
   ]
  },
  {
   "cell_type": "markdown",
   "metadata": {},
   "source": [
    "## 概要\n",
    "\n",
    "- 「**deep learning を用いた時系列予測のモデルが、既存の時系列予測システム(ARIMA, カオス時系列解析 etc)に対し、同等以上の性能を持つか**」 を検証した。\n",
    "- また、 LSTMに対する、いくつかの前処理のうち、「**どの前処理の方法が良いか**」を実験の結果から決定した。"
   ]
  },
  {
   "cell_type": "markdown",
   "metadata": {},
   "source": [
    "## はじめに\n",
    "\n",
    "- 背景: 現在、需要予測はARIMAやカオス時系列解析が用いられているが、各商品の時系列ごとに model を学習させている。\n",
    "- deep learning を用いれば、1つの model で複数商品に対応できるのではないか。\n",
    "- 今回は、複数商品対応 model の構築の前段階として、1商品 model の性能が既存システムと同等以上かを検証する。"
   ]
  },
  {
   "cell_type": "markdown",
   "metadata": {},
   "source": [
    "## 問題の定義\n",
    "\n",
    "**task**: 時系列予測 **time forecasting**\n",
    "\n",
    "**input**: 現在までの商品の需要データ\n",
    "\n",
    "- 1データ(行): 1/4ヶ月の総需要数\n",
    "- 時系列の本数: 3商品、それぞれの時系列データ\n",
    "- 時系列長さ: 100~300\n",
    "\n",
    "**output**: 3ヶ月先まで(`4*3 = 12` データ) の予測値\n",
    "\n",
    "- 複数時刻の予測値を出すので、**multi-step** forecasting"
   ]
  },
  {
   "cell_type": "code",
   "execution_count": null,
   "metadata": {},
   "outputs": [],
   "source": [
    "import pandas as pd\n",
    "\n",
    "# もとのデータ\n",
    "pd.read_csv('data/airline_train.csv')"
   ]
  },
  {
   "cell_type": "markdown",
   "metadata": {},
   "source": [
    "## Method\n",
    "\n",
    "### multi-step time forecasting\n",
    "\n",
    "- **direct-recursive hybrid strategy**\n",
    "    - 次の予測値 $\\hat{x}(t+2)$ を予測するのに、 前の予測値 $\\hat{x}(t+1)$ も特徴量として含める手法。\n",
    "    - ARIMAなどのmodelを使う場合、入力数が変わるので、各時刻で異なる model を用意する必要があるが、LSTM は入力が可変なので、1つの model で済む。\n",
    "    \n",
    "```python\n",
    "pred(t+1) = model(obs(0), ... , obs(t-1), obs(t))\n",
    "pred(t+2) = model(obs(0), ... , obs(t-1), obs(t), pred(t+1))\n",
    "pred(t+3) = model(obs(0), ... , obs(t-1), obs(t), pred(t+1), pred(t+2))\n",
    "...\n",
    "```\n",
    "\n",
    "- multi-step には、以下のような他の手法もある。\n",
    "- c.f. [4 Strategies for Multi-Step Time Series Forecasting - Machine Learning Mastery](https://machinelearningmastery.com/multi-step-time-series-forecasting/)"
   ]
  },
  {
   "cell_type": "markdown",
   "metadata": {},
   "source": [
    "### model architecture\n",
    "\n",
    "![LSTM](./LSTM.png)\n",
    "Fig.1: RNN（非展開時）\n",
    "\n",
    "RNN 全体における、\n",
    "\n",
    "- input shape: **(batch_size=1, timesteps, n_features=1)**\n",
    "- output shape: **(batch_size=1, timesteps, n_features=1)**\n",
    "\n",
    "![LSTM_deployed](./LSTM_deployed.png)\n",
    "Fig.2: RNN（展開時）\n",
    "\n",
    "RNN の各時刻 t における、\n",
    "\n",
    "- input shape: **(batch_size=1, n_features=1)**\n",
    "- output shape: **(batch_size=1, n_features=1)**\n",
    "\n",
    "output は、input で入れた時系列に対し、1時刻ずれた同長の時系列が返る。\n",
    "\n",
    "lossの計算、updateのタイミング: 各時刻の予測値と観測値のMSEの総和\n",
    "\n",
    "$loss = \\sum_{t=1}^{N_{train}} MSE(\\hat{x}(t),x(t))$\n",
    "\n",
    "**n_features** に関して、ARIMA などの Auto Regression な model は 前の時刻 t-1, t-2, ... などの値を **lag feature** 、特徴量の次元として扱うのに対し、LSTMでは、そういった lag の情報を **timestep** 軸として扱う。なので、今回、n_features=1。\n",
    "\n",
    "需要データ以外の時系列 (e.g. 気温など) も予測に使いたい場合は、その時系列データを特徴量の軸 n_features に加えればいい。\n",
    "\n",
    "**batch_size** に関して、今回は、まだ 1 model で 1時系列 を学習させるので、 batch_size=1。ただ、 batch_size の増やし方がよくわからず、もし、複数商品に対応させる場合、言語モデルのように、**1つの商品の時系列を1つの文とみなして、batchを作るのがいいのだろうか**。このあたり、ご指摘いただけたら幸いです。\n"
   ]
  },
  {
   "cell_type": "markdown",
   "metadata": {},
   "source": [
    "## Preprocessing\n",
    "\n",
    "以下の前処理の必要性を検証すべく、7つの前処理の条件ごとに model を学習させた。\n",
    "\n",
    "- **log scaling**\n",
    "- **differencing**\n",
    "- **MinMax scaling** $\\in [-1, 1]$\n",
    "    - LSTM は tanh を含むので、[-1,1]の間にscalingが必要とうい記事を見たため。\n",
    "    - 変換に必要なparameterはtrainのみから算出\n",
    "    - c.f. [Time Series Forecasting with the Long Short-Term Memory Network in Python - Machine Learning Mastery](https://machinelearningmastery.com/time-series-forecasting-long-short-term-memory-network-python/)\n",
    "\n",
    "### dataset\n",
    "\n",
    "各時系列ごとに以下の3つに分割した。\n",
    "- test: 時系列の末尾 `12 = 3ヶ月*4` 時刻\n",
    "- train, val: test を除いた時系列 を train:val = 7:3 で分割"
   ]
  },
  {
   "cell_type": "markdown",
   "metadata": {},
   "source": [
    "### 前処理の条件\n",
    "- **default**: log, diff, minmax\n",
    "- **not_log**: diff, minmax\n",
    "- **not_diff**: log, minmax\n",
    "- **minmax+**: log, diff, minmax $\\in [0,1]$\n",
    "- **standard**: log, diff, StandardScaler （平均0, 分散1）\n",
    "- **not_label_scale**: log, diff, minmax（ただし、入力のみ）\n",
    "- **not_scale**: log, diff"
   ]
  },
  {
   "cell_type": "markdown",
   "metadata": {},
   "source": [
    "### hyperparameter search\n",
    "\n",
    "各前処理の条件において、最も良いhyperparameterを選出する。\n",
    "\n",
    "- search algorithm: random search\n",
    "    - NNの学習ではgrid searchより有効\n",
    "    - c.f. [James Bergstra - Random Search for Hyper-Parameter Optimization](http://www.jmlr.org/papers/volume13/bergstra12a/bergstra12a.pdf)\n",
    "    - n_epoch: 300 epoch/model\n",
    "    - n_sample: 100 model\n",
    "- metric: $min. mean_{e \\in E_{best10}(hp)} (loss_{val}(e; hp))$: validation data に対する loss が最も低くなる 10 epoch の、各最小 loss の平均\n",
    "    - $loss_{val}(e; hp) = MSE_{t \\in T_{val}}(\\hat{y}_t(e; hp), x_{t+1})$: ある epoch における model の validation data に対する loss\n",
    "    - $\\hat{y}_t(e; hp) = model(x_t; e; hp)$\n",
    "    - $E_{best10}(hp) = min10_{e \\in E}(loss_{val}(e; hp))$: それが最小となるベスト10 epoch における $loss_{val, e}$ の値の組\n",
    "    - validation は shuffle なしの hold-out\n",
    "- search space:\n",
    "    - layer数: [1,5]\n",
    "    - 各layerのunit数: [1,10] layerによって変えた\n",
    "    - 最適化手法 (learning rate は default)\n",
    "        - SGD,\n",
    "        - Adam,\n",
    "        - RMSprop,\n",
    "        - AdaDelta,\n",
    "        - NesterovAG,\n",
    "        - MomentumSGD,"
   ]
  },
  {
   "cell_type": "markdown",
   "metadata": {},
   "source": [
    "### select epoch\n",
    "\n",
    "各前処理の条件の、最も良かった hyper paramter において、最も良い epoch を選出する。\n",
    "\n",
    "- metric: $min. loss_{val}(e; hp) = MSE_{t \\in T_{val}}(\\hat{y}_t(e; hp), x_{t+1})$: model の validation data に対する loss"
   ]
  },
  {
   "cell_type": "markdown",
   "metadata": {},
   "source": [
    "### comparison metric\n",
    "\n",
    "各条件ごとの上記で選出されたモデルの比較に、以下の指標を用いた。\n",
    "\n",
    "$|log(P/A)| \\in [0, \\infty)$\n",
    "- 小さいほどよい。\n",
    "\n",
    "理由として、現在のシステムの評価では、P/Aが用いられている。\n",
    "\n",
    "P/A (predict/acutual) $\\in [0, \\infty)$\n",
    "- 1に近いほど良い。\n",
    "\n",
    "また、P/Aが1より小さい model と、1以上の model を同時に評価できるように\n",
    "\n",
    "$|log(P/A)| \\in [0, \\infty)$\n",
    "\n",
    "を評価指標とした"
   ]
  },
  {
   "cell_type": "markdown",
   "metadata": {},
   "source": [
    "### result\n",
    "3商品すべてにおいて、not_logが最も良かった。よって、後述のARIMAとの比較では、**not_logの条件を用いたLSTM**と比較を行う。\n",
    "なお、1つの model を 300 epoch 学習させる場合、 2分ほどかかった。"
   ]
  },
  {
   "cell_type": "code",
   "execution_count": null,
   "metadata": {},
   "outputs": [],
   "source": [
    "# 詳細\n",
    "from model_api import main_verification\n",
    "\n",
    "prcs = [\n",
    "    'not_log',\n",
    "    'not_diff',\n",
    "    'minmax+',\n",
    "    'standard',\n",
    "    'not_scale',\n",
    "    'not_label_scale',\n",
    "]\n",
    "for name_prc in prcs:\n",
    "    main_verification(name_prc=name_prc, verbose=False)"
   ]
  },
  {
   "cell_type": "markdown",
   "metadata": {},
   "source": [
    "## Comparison with the current system\n",
    "\n",
    "以下の前処理の必要性を検証すべく、7つの前処理の条件ごとに model を学習させた。\n",
    "\n",
    "### dataset\n",
    "各時系列ごとに以下の3つに分割した。\n",
    "- test: `12 = 3ヶ月*4=` (2016-04-01 ~ 2016-06-22) \n",
    "- train, val: 元の時系列(~ 2016-3-22) を train:val = 7:3 で分割\n",
    "\n",
    "### comparison\n",
    "- **baseline**: 既存予測システム\n",
    "- **LSTM**\n",
    "    - preprocessing: not_log\n",
    "    - hyperparameter: 前述の選出方法\n",
    "    - epoch:  前述の選出方法\n",
    "\n",
    "### comparison metric\n",
    "- test data に対する、BciScore\n",
    "\n",
    "### result"
   ]
  },
  {
   "cell_type": "code",
   "execution_count": null,
   "metadata": {},
   "outputs": [],
   "source": [
    "from model_api import main_compare\n",
    "\n",
    "name_prc='not_log'\n",
    "main_compare(name_prc=name_prc)"
   ]
  },
  {
   "cell_type": "markdown",
   "metadata": {},
   "source": [
    "## Conclusion\n",
    "\n",
    "- 3商品中、1商品のみ、既存モデルに対し competitive な精度を出せた。\n",
    "- validation data に関しては結構いい精度だった。\n",
    "    - 予測階差を戻すときに、valでは1時刻前の観測値に予測階差を、testでは1時刻前の予測値に予測階差を足して戻しているので、その実装の部分がおかしい可能性がある。（code review していただけたら、嬉しいです。）\n",
    "- 前処理は、**階差、MinMax scaling[-1,1]** をすると精度があがることがわかった。ただし、**log scaling は良くならない**。"
   ]
  },
  {
   "cell_type": "markdown",
   "metadata": {},
   "source": [
    "## Discussion, Future work \n",
    "\n",
    "- optimization method は 固定し、 learning rate を search したほうが良い結果が得られる可能性がある。\n",
    "    - RMSprop が今回、選ばれることが多かったので、RMSpropに固定\n",
    "- 複数商品への拡張\n",
    "    - 他の商品の時系列をsample軸に持ってきて、mini-batch learning をする。\n",
    "    - 表現力が必要なので、unit数やlayer数が多くなると考えられる。\n",
    "    - hyperparameterにbatch_sizeを追加する必要がある。\n",
    "    - LSTM用の regularization を適用する必要がある。\n",
    "        - Batch Norm for LSTM\n",
    "            - weight normalization\n",
    "            - reccurent BN\n",
    "            - layer normalization\n",
    "            - c.f. [ニューラルネット勉強会（LSTM編） chainer stateless/full BatchNorm Dropout Nstep](http://isw3.naist.jp/~neubig/student/2015/seitaro-s/161025neuralnet_study_LSTM.pdf)\n",
    "        - Dropout はLSTM blockすべてにつけるのではなく、LSTM内のある部分に施さないと意味がないらしい。\n",
    "            - zone out\n",
    "            - c.f. [ニューラルネット勉強会（LSTM編） chainer stateless/full BatchNorm Dropout Nstep](http://isw3.naist.jp/~neubig/student/2015/seitaro-s/161025neuralnet_study_LSTM.pdf)\n",
    "- truncated ver.\n",
    "    - 各商品の時系列の長さが200を超えてくるとbackpropの計算量が膨大になるのでEOSと`loss.unchain_backward`を用いて**TBPTT**を実行\n",
    "    - \n",
    "    - stateful必須。EOSが出たらreset_state()\n",
    "    - LSTMでは、すべての時刻の入力を予測に使うことができるので、時系列を分けるときに使うwindowは、データがかぶらない**tumbling window**が最適と考えられる。\n",
    "        - c.f. [https://msdn.microsoft.com/en-us/library/dn835019.aspx](https://msdn.microsoft.com/library/en-us/Dn835055.aspx)\n",
    "    - 時系列の分ける長さは以下を参照（季節性を考慮し、1年という仮説が立てられる。）\n",
    "        - c.f. [How to Prepare Sequence Prediction for Truncated Backpropagation Through Time in Keras - Machine Learning Mastery](https://machinelearningmastery.com/truncated-backpropagation-through-time-in-keras/)\n",
    "- QRNN ver.\n",
    "    - LSTM の代わりに QRNN を用いて、学習時間を短縮できる可能性がある。\n",
    "    - timesteps数が多い処理なので有効と考えられる。\n",
    "    - c.f. \n",
    "        - [LSTMを超える期待の新星、QRNN - Qiita](https://qiita.com/icoxfog417/items/d77912e10a7c60ae680e)\n",
    "        - [salesforce/pytorch-qrnn: PyTorch implementation of the Quasi-Recurrent Neural Network - up to 16 times faster than NVIDIA's cuDNN LSTM](https://github.com/salesforce/pytorch-qrnn) *\"Speeds are between 2 and 17 times faster than NVIDIA's cuDNN LSTM\"*"
   ]
  },
  {
   "cell_type": "markdown",
   "metadata": {},
   "source": [
    "## 感想\n",
    "時系列解析、この量のコーディングをしたは、初めてだったので、てんやわんやでした。\n",
    "コード、理論ともに拙い部分が多いです。特に、\n",
    "\n",
    "- pre|post-processing\n",
    "- hyperparameter search\n",
    "\n",
    "あたりが理論、実装ともに不安です。詳しい方、ご指摘ただけたら非常に幸いです。\n",
    "\n",
    "[hrsma2i/chainer-LSTM-time-series-forecasting](https://github.com/hrsma2i/chainer-LSTM-time-series-forecasting) "
   ]
  },
  {
   "cell_type": "markdown",
   "metadata": {},
   "source": [
    "## Reference & Appendix\n",
    "\n",
    "### chainer tutorial\n",
    "- [Chainer: ビギナー向けチュートリアル Vol.1 - Qiita](https://qiita.com/mitmul/items/eccf4e0a84cb784ba84a) chainerは**training loopを抽象化するクラス**間の関係が煩雑なので、それらの**関係図**がわかりやすい。\n",
    "    - [Chainer v3 ビギナー向けチュートリアル - Qiita](https://qiita.com/mitmul/items/1e35fba085eb07a92560)\n",
    "- [Chainerのモデルのセーブとロード - 無限グミ](http://toua20001.hatenablog.com/entry/2016/11/15/203332)\n",
    "- [勤労感謝の日なのでChainerの勤労(Training)に感謝してextensionsを全部試した話 - EnsekiTT Blog](http://ensekitt.hatenablog.com/entry/2016/11/24/012539)"
   ]
  },
  {
   "cell_type": "markdown",
   "metadata": {},
   "source": [
    "### LSTM \n",
    "- [Machine Learning Mastery](https://machinelearningmastery.com/)\n",
    "    - **大変、お世話になりました。** 日本語だとNLPのものしかない中、LSTMを用いた時系列解析のkerasでのハンズオンが豊富にあります。特に以下のページから見るといいかもしれません。\n",
    "    - [Mini-Course on Long Short-Term Memory Recurrent Neural Networks with Keras - Machine Learning Mastery](https://machinelearningmastery.com/long-short-term-memory-recurrent-neural-networks-mini-course/)サイト内のLSTMに関する post が course 形式で順序だってまとめられている。\n",
    "    - [Time Series Forecasting with the Long Short-Term Memory Network in Python - Machine Learning Mastery](https://machinelearningmastery.com/time-series-forecasting-long-short-term-memory-network-python/) kerasだが、preprocessing、testなどがまとまっている。\n",
    "- [LSTMネットワークの概要 - Qiita](https://qiita.com/KojiOhki/items/89cd7b69a8a6239d67ca)\n",
    "- [Fei-Fei Li & Justin Johnson & Serena Yeung Lecture 10: Recurrent Neural Networks](http://cs231n.stanford.edu/slides/2017/cs231n_2017_lecture10.pdf)\n",
    "    - RNN の application による構造の分類、many-to-many, many-to-oneなどの4種類が絵で説明されててわかりやすい。\n",
    "- [ニューラルネット勉強会（LSTM編）](http://isw3.naist.jp/~neubig/student/2015/seitaro-s/161025neuralnet_study_LSTM.pdf)\n",
    "- [わかるLSTM ～ 最近の動向と共に - Qiita](https://qiita.com/t_Signull/items/21b82be280b46f467d1b)\n",
    "- [LSTMにsin波を覚えてもらう(chainer trainerの速習) - Qiita](https://qiita.com/chachay/items/052406176c55dd5b9a6a) 今回のコードのベースにさせていただきました。ただ、sin波にしか対応していなかったり、dataset,updater,loss,iteratorの定義が難しかったので、 [ここ](https://machinelearningmastery.com/time-series-forecasting-long-short-term-memory-network-python/) を参考に改良。\n",
    "- [Keras - stateful vs stateless LSTMs](https://stackoverflow.com/questions/39681046/keras-stateful-vs-stateless-lstms)"
   ]
  },
  {
   "cell_type": "markdown",
   "metadata": {},
   "source": [
    "### hyperparamter search\n",
    "あまり、体系だってhyperparameterについて書かれてる資料が見つからなかったです。コード付きの資料で実装面も勉強したいです。hyperoptなども試したのですが、うまく使いこなせませんでした。\n",
    "- [ディープラーニングにおける学習のコツとハイパーパラメータのガイドライン - Qiita](https://qiita.com/akimach/items/88356ef46e98f045b035)\n",
    "- [深層学習：ハイパーパラメータの設定に迷っている人へ - HELLO CYBERNETICS](http://s0sem0y.hatenablog.com/entry/2016/11/13/035443)\n",
    "- [LSTM: A Search Space Odyssey](https://arxiv.org/pdf/1503.04069.pdf)"
   ]
  },
  {
   "cell_type": "markdown",
   "metadata": {},
   "source": [
    "### 設計\n",
    "この量のコーディングをしたのは初めてで、「うわ！なんでこんな書き方したんだ自分」って思うことが多く、全然綺麗にかけず、修正・追加したりするのが大変でした。この量じゃそんな設計するほどではないだろうと思われるかもしれませんが、ご容赦ください。精進いたします！pre|post-processing 周りが本当に難しく、何度も頭がこんがらがりました。\n",
    "\n",
    "全然うまく反映できていませんが、一応、下のslideを参考にさせていただきました。\n",
    "- [機械学習モデルの実装における、テストについて - Qiita](https://qiita.com/icoxfog417/items/67764a6756c4548b5fb8)\n",
    "- [機械学習で泣かないためのコード設計](https://www.slideshare.net/takahirokubo7792/ss-65413290)"
   ]
  }
 ],
 "metadata": {
  "kernelspec": {
   "display_name": "Python 3",
   "language": "python",
   "name": "python3"
  },
  "language_info": {
   "codemirror_mode": {
    "name": "ipython",
    "version": 3
   },
   "file_extension": ".py",
   "mimetype": "text/x-python",
   "name": "python",
   "nbconvert_exporter": "python",
   "pygments_lexer": "ipython3",
   "version": "3.6.0"
  }
 },
 "nbformat": 4,
 "nbformat_minor": 2
}
