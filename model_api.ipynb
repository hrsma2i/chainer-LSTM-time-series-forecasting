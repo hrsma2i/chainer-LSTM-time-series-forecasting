{
 "cells": [
  {
   "cell_type": "code",
   "execution_count": null,
   "metadata": {
    "collapsed": true
   },
   "outputs": [],
   "source": [
    "import os\n",
    "import json\n",
    "import re\n",
    "\n",
    "import numpy as np\n",
    "import pandas as pd\n",
    "import matplotlib.pyplot as plt\n",
    "%matplotlib inline\n",
    "from chainer import serializers\n",
    "\n",
    "from data_process import Processer\n",
    "from model import RNN"
   ]
  },
  {
   "cell_type": "code",
   "execution_count": null,
   "metadata": {
    "collapsed": false
   },
   "outputs": [],
   "source": [
    "def get_learned_model(root, epoch):\n",
    "    hp = json.load(open(os.path.join(root, 'hyperparameters.json')))\n",
    "    units = hp['units']\n",
    "    \n",
    "    model = RNN(units)\n",
    "    path_weight = os.path.join(root, 'model_epoch-{}'.format(epoch))\n",
    "    serializers.load_npz(paht_weight, model)\n",
    "    \n",
    "    return model"
   ]
  },
  {
   "cell_type": "code",
   "execution_count": null,
   "metadata": {
    "collapsed": false
   },
   "outputs": [],
   "source": [
    "root = 'result/test/adam0.1/'\n",
    "pattern = r'model_epoch-[1-9]+'\n",
    "[ l for l in os.listdir(result_path) if re.match(pattern, l)]\n",
    "\n"
   ]
  },
  {
   "cell_type": "code",
   "execution_count": null,
   "metadata": {
    "collapsed": true
   },
   "outputs": [],
   "source": [
    "def predict(num_pred, model, prcsr, path_series_train):\n",
    "    \n",
    "    series = pd.read_csv(path_series_train, header=None).values\n",
    "    X_train, X_val, _, _ = prcsr.transform_train(series)\n",
    "    X_train = np.concatenate((X_train, X_val), axis=0)\n",
    "    \n",
    "    # setup hidden state for predicting test\n",
    "    model.reset_state()\n",
    "    for Xt in X_train:\n",
    "        _ = model(Xt.reshape(-1, 1)).data[0]\n",
    "    \n",
    "    # make prediction\n",
    "    pred = []\n",
    "    p_t = X_train[-1]\n",
    "    for _ in range(num_pred):\n",
    "        p_t = model(p_t.reshape(-1, 1)).data[0]\n",
    "        pred.append(p_t)\n",
    "    pred = np.array(pred)\n",
    "    \n",
    "    if prcsr.ysclr is not None:\n",
    "        pred = prcsr.inverse_scale(pred)\n",
    "\n",
    "    if prcsr.diff:\n",
    "        pred_diff = pred.copy()\n",
    "        pred = []\n",
    "        p_t = prcsr.last_before_diff\n",
    "        for d_t in pred_diff:\n",
    "            p_t += d_t\n",
    "            pred.append(p_t.copy())\n",
    "        pred = np.array(pred)\n",
    "    \n",
    "    if prcsr.log:\n",
    "        pred = np.expm1(pred)\n",
    "        \n",
    "    return pred"
   ]
  },
  {
   "cell_type": "code",
   "execution_count": null,
   "metadata": {
    "collapsed": false,
    "scrolled": false
   },
   "outputs": [],
   "source": [
    "# fitting train val\n",
    "if __name__==\"__main__\":\n",
    "    \n",
    "    prcsr = Processer()\n",
    "    \n",
    "    root = 'result/test/adam0.1'\n",
    "    epoch = 300\n",
    "    \n",
    "    hp = json.load(open(os.path.join(root, 'hyperparameters.json')))\n",
    "    units = hp['units']\n",
    "    \n",
    "    model = RNN(units)\n",
    "    serializers.load_npz(os.path.join(root, 'model_epoch-{}'.format(epoch)), model)\n",
    "    \n",
    "    series = pd.read_csv('data/airline_train.csv', header=None).values.flatten()\n",
    "    if series.ndim == 1:\n",
    "        print('ndim = 1')\n",
    "        series = series.reshape(-1, 1)\n",
    "        \n",
    "    X_train, X_val, y_train, y_val = prcsr.transform_train(series)\n",
    "    \n",
    "    X_train = np.concatenate((X_train, X_val), axis=0)\n",
    "    obs_train = np.concatenate((y_train, y_val), axis=0)\n",
    "    \n",
    "    pred_train = []\n",
    "    \n",
    "    model.reset_state()\n",
    "    for Xt in X_train:\n",
    "        pred = model(Xt.reshape(-1, 1)).data[0]\n",
    "        pred_train.append(pred)\n",
    "    pred_train = np.array(pred_train)\n",
    "    \n",
    "    plt.figure(figsize=(20,10))\n",
    "    plt.axvline(y_train.shape[0], color='red')\n",
    "    plt.plot( obs_train)\n",
    "    plt.plot(pred_train)\n",
    "    \n",
    "    \n",
    "    if prcsr.ysclr is not None:\n",
    "        obs_train = prcsr.inverse_scale(obs_train)\n",
    "        pred_train = prcsr.inverse_scale(pred_train)\n",
    "        \n",
    "        plt.figure(figsize=(20,10))\n",
    "        plt.axvline(y_train.shape[0], color='red')\n",
    "        plt.plot( obs_train)\n",
    "        plt.plot(pred_train)\n",
    "        \n",
    "    if prcsr.diff:\n",
    "        before_diff = series[:,:]\n",
    "        if prcsr.log:\n",
    "            before_diff = prcsr.log_transform(before_diff)\n",
    "        obs_train  = before_diff[2:] \n",
    "        obs1_train = before_diff[1:-1]\n",
    "        pred_train = prcsr.inverse_diff_given(pred_train, obs1_train)\n",
    "        \n",
    "        plt.figure(figsize=(20,10))\n",
    "        plt.axvline(y_train.shape[0], color='red')\n",
    "        plt.plot( obs_train)\n",
    "        plt.plot(pred_train)\n",
    "    \n",
    "    if prcsr.log:\n",
    "        pred_train = prcsr.inverse_log(pred_train)\n",
    "        \n",
    "    obs_train = series[2:]\n",
    "    \n",
    "    plt.figure(figsize=(20,10))\n",
    "    plt.axvline(y_train.shape[0], color='red')\n",
    "    plt.plot( obs_train)\n",
    "    plt.plot(pred_train)"
   ]
  },
  {
   "cell_type": "code",
   "execution_count": null,
   "metadata": {
    "collapsed": false
   },
   "outputs": [],
   "source": [
    "# fitting test\n",
    "if __name__==\"__main__\":\n",
    "    \n",
    "    name_seq = 'airline'\n",
    "    path_series_train = 'data/{}_train.csv'.format(name_seq)\n",
    "    path_series_test  =  'data/{}_test.csv'.format(name_seq)\n",
    "    \n",
    "    prcsr = Processer()\n",
    "    \n",
    "    root = 'result/test/adam0.01'\n",
    "    \n",
    "    hp = json.load(open(os.path.join(root, 'hyperparameters.json')))\n",
    "    units = hp['units']\n",
    "    \n",
    "    model = RNN(units)\n",
    "    epoch = 65\n",
    "    path_weight = os.path.join(root, 'model_epoch-{}'.format(epoch))\n",
    "    serializers.load_npz(path_weight, model)\n",
    "    \n",
    "    pred_test = predict(num_pred=12, model=model, prcsr=prcsr,\n",
    "                        path_series_train=path_series_train)\n",
    "    obs_test = pd.read_csv(path_series_test, \n",
    "                           header=None).values.flatten()\n",
    "    \n",
    "    plt.figure(figsize=(20,10))\n",
    "    plt.plot(pred_test)\n",
    "    plt.plot(obs_test)"
   ]
  },
  {
   "cell_type": "code",
   "execution_count": null,
   "metadata": {
    "collapsed": true
   },
   "outputs": [],
   "source": []
  }
 ],
 "metadata": {
  "kernelspec": {
   "display_name": "Python 3",
   "language": "python",
   "name": "python3"
  },
  "language_info": {
   "codemirror_mode": {
    "name": "ipython",
    "version": 3
   },
   "file_extension": ".py",
   "mimetype": "text/x-python",
   "name": "python",
   "nbconvert_exporter": "python",
   "pygments_lexer": "ipython3",
   "version": "3.6.0"
  }
 },
 "nbformat": 4,
 "nbformat_minor": 2
}
