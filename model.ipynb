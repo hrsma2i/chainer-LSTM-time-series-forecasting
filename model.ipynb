{
 "cells": [
  {
   "cell_type": "code",
   "execution_count": null,
   "metadata": {
    "collapsed": false
   },
   "outputs": [],
   "source": [
    "import numpy as np\n",
    "import chainer\n",
    "import chainer.functions as F\n",
    "import chainer.links as L\n",
    "from chainer import Chain, Variable, datasets, iterators, optimizers\n",
    "from chainer import report, training\n",
    "from chainer.training import extensions\n",
    "\n",
    "import matplotlib.pyplot as plt\n",
    "%matplotlib inline"
   ]
  },
  {
   "cell_type": "code",
   "execution_count": null,
   "metadata": {
    "collapsed": false
   },
   "outputs": [],
   "source": [
    "# HP\n",
    "# architecture: n_layer\n",
    "# in each layer: n_unit, activation? (all of them depends on n_layer)\n",
    "# training: n_epoch, optimization, lr\n",
    "\n",
    "class RNN(Chain):\n",
    "    def __init__(self, units):\n",
    "        super(RNN, self).__init__()\n",
    "        \n",
    "        n_in  = 1 # features\n",
    "        n_out = 1\n",
    "        \n",
    "        #lstms =  [('lstm0', L.LSTM(n_in, units[0]))]\n",
    "        #for l in range(1, len(units)):\n",
    "        #    print(units[l-1], units[l])\n",
    "        #    lstms.append(('lstm{}'.format(l), L.LSTM(units[l-1], units[l])))\n",
    "        #\n",
    "        #lstms =  [('lstm0', L.LSTM(n_in, units[0]))]\n",
    "        #lstms += [('lstm{}'.format(l+1), L.LSTM(units[l], units[l+1]))\n",
    "        #        for l in range(len(units)-1)]\n",
    "        #\n",
    "        lstms = [('lstm{}'.format(l), L.LSTM(None, n_unit))\n",
    "                for l, n_unit in enumerate(units)]\n",
    "        self.lstms = lstms\n",
    "        for name, lstm in lstms:\n",
    "            self.add_link(name, lstm)\n",
    "            \n",
    "        self.add_link('fc', L.Linear(units[-1], n_out))\n",
    "        \n",
    "        \n",
    "    def __call__(self, x):\n",
    "        \"\"\"\n",
    "        # Param\n",
    "        - x (Variable: (S, F))\n",
    "        S: samples\n",
    "        F: features\n",
    "        \n",
    "        # Return\n",
    "        -   (Variable: (S, 1))\n",
    "        \"\"\"\n",
    "        h = x\n",
    "        for name, lstm in self.lstms:\n",
    "            h = lstm(h)\n",
    "        return self.fc(h)\n",
    "    \n",
    "    def reset_state(self):\n",
    "        for name, lstm in self.lstms:\n",
    "            lstm.reset_state()"
   ]
  },
  {
   "cell_type": "code",
   "execution_count": null,
   "metadata": {
    "collapsed": false
   },
   "outputs": [],
   "source": [
    "if __name__==\"__main__\":\n",
    "    units = (2, 3, 5, 9)\n",
    "    model = RNN(units)\n",
    "    display(dir(model.children))\n"
   ]
  },
  {
   "cell_type": "code",
   "execution_count": null,
   "metadata": {
    "collapsed": true
   },
   "outputs": [],
   "source": []
  }
 ],
 "metadata": {
  "kernelspec": {
   "display_name": "Python 3",
   "language": "python",
   "name": "python3"
  },
  "language_info": {
   "codemirror_mode": {
    "name": "ipython",
    "version": 3
   },
   "file_extension": ".py",
   "mimetype": "text/x-python",
   "name": "python",
   "nbconvert_exporter": "python",
   "pygments_lexer": "ipython3",
   "version": "3.6.0"
  }
 },
 "nbformat": 4,
 "nbformat_minor": 2
}
