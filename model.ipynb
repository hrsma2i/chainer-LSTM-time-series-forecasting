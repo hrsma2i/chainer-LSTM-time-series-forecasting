{
 "cells": [
  {
   "cell_type": "code",
   "execution_count": null,
   "metadata": {
    "collapsed": false
   },
   "outputs": [],
   "source": [
    "import numpy as np\n",
    "import chainer\n",
    "import chainer.functions as F\n",
    "import chainer.links as L\n",
    "from chainer import Chain, Variable, datasets, iterators, optimizers\n",
    "from chainer import report, training\n",
    "from chainer.training import extensions\n",
    "\n",
    "import matplotlib.pyplot as plt\n",
    "%matplotlib inline"
   ]
  },
  {
   "cell_type": "code",
   "execution_count": null,
   "metadata": {
    "collapsed": true
   },
   "outputs": [],
   "source": [
    "# HP\n",
    "# architecture: n_layer\n",
    "# in each layer: n_unit, activation? (all of them depends on n_layer)\n",
    "# training: n_epoch, optimization, lr\n",
    "\n",
    "class RNN(Chain):\n",
    "    def __init__(self):\n",
    "        super(RNN, self).__init__()\n",
    "        n_in = 1\n",
    "        n_unit = 10\n",
    "        n_out = 1\n",
    "        lstms = [('lstm', L.LSTM(n_in, n_unit))]\n",
    "        self.lstms = lstms\n",
    "        for name, lstm in lstms:\n",
    "            self.add_link(name, lstm)\n",
    "        self.add_link('fc', L.Linear(n_unit, n_out))\n",
    "        \n",
    "    def __call__(self, x):\n",
    "        h = Variable(x)\n",
    "        for name,lstm in self.lstms:\n",
    "            h = lstm(h)\n",
    "        return self.fc(h)\n",
    "    \n",
    "    def reset_state():\n",
    "        for name, lstm in self.lstms:\n",
    "            lstm.reset_state()"
   ]
  },
  {
   "cell_type": "code",
   "execution_count": null,
   "metadata": {
    "collapsed": false
   },
   "outputs": [],
   "source": [
    "if __name__==\"__main__\":\n",
    "    model = RNN()\n",
    "    X = np.array([[2]]).astype(np.float32)\n",
    "    #X = Variable(X)\n",
    "    model(X).data"
   ]
  },
  {
   "cell_type": "code",
   "execution_count": null,
   "metadata": {
    "collapsed": true
   },
   "outputs": [],
   "source": [
    "\n"
   ]
  }
 ],
 "metadata": {
  "kernelspec": {
   "display_name": "Python 3",
   "language": "python",
   "name": "python3"
  },
  "language_info": {
   "codemirror_mode": {
    "name": "ipython",
    "version": 3
   },
   "file_extension": ".py",
   "mimetype": "text/x-python",
   "name": "python",
   "nbconvert_exporter": "python",
   "pygments_lexer": "ipython3",
   "version": "3.6.0"
  }
 },
 "nbformat": 4,
 "nbformat_minor": 2
}
